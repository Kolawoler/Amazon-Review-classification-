{
 "cells": [
  {
   "cell_type": "markdown",
   "id": "1cb50b1e",
   "metadata": {},
   "source": [
    "In this Project we will classify written restaurant reviews, here we will predict a review is positive or negative\n",
    "\n",
    "a positive review is represented in 1 and 0 for a negative review\n",
    "\n",
    "This same algorithm can be used for other kinds of text, like books (to predict the gerne of book comedy, romance, etc), newspaper article (predicting the category of article)"
   ]
  },
  {
   "cell_type": "code",
   "execution_count": 23,
   "id": "37d4f177",
   "metadata": {},
   "outputs": [],
   "source": [
    "#importing the libraries\n",
    "\n",
    "import pandas as pd\n",
    "import numpy as np\n",
    "import matplotlib.pyplot as plt\n",
    "import spacy"
   ]
  },
  {
   "cell_type": "markdown",
   "id": "79e186c2",
   "metadata": {},
   "source": [
    "#### Data Gathering"
   ]
  },
  {
   "cell_type": "code",
   "execution_count": 24,
   "id": "d798428b",
   "metadata": {},
   "outputs": [],
   "source": [
    "data_yelp = pd.read_csv(\"yelp_labelled.txt\" , sep = \"\\t\" , header= None) # laading the yelp data"
   ]
  },
  {
   "cell_type": "code",
   "execution_count": 25,
   "id": "95f9979e",
   "metadata": {},
   "outputs": [],
   "source": [
    "data_yelp.columns = [\"Review\", \"Sentiment\"]"
   ]
  },
  {
   "cell_type": "code",
   "execution_count": 26,
   "id": "4350fac5",
   "metadata": {},
   "outputs": [
    {
     "data": {
      "text/html": [
       "<div>\n",
       "<style scoped>\n",
       "    .dataframe tbody tr th:only-of-type {\n",
       "        vertical-align: middle;\n",
       "    }\n",
       "\n",
       "    .dataframe tbody tr th {\n",
       "        vertical-align: top;\n",
       "    }\n",
       "\n",
       "    .dataframe thead th {\n",
       "        text-align: right;\n",
       "    }\n",
       "</style>\n",
       "<table border=\"1\" class=\"dataframe\">\n",
       "  <thead>\n",
       "    <tr style=\"text-align: right;\">\n",
       "      <th></th>\n",
       "      <th>Review</th>\n",
       "      <th>Sentiment</th>\n",
       "    </tr>\n",
       "  </thead>\n",
       "  <tbody>\n",
       "    <tr>\n",
       "      <th>0</th>\n",
       "      <td>Wow... Loved this place.</td>\n",
       "      <td>1</td>\n",
       "    </tr>\n",
       "    <tr>\n",
       "      <th>1</th>\n",
       "      <td>Crust is not good.</td>\n",
       "      <td>0</td>\n",
       "    </tr>\n",
       "    <tr>\n",
       "      <th>2</th>\n",
       "      <td>Not tasty and the texture was just nasty.</td>\n",
       "      <td>0</td>\n",
       "    </tr>\n",
       "    <tr>\n",
       "      <th>3</th>\n",
       "      <td>Stopped by during the late May bank holiday of...</td>\n",
       "      <td>1</td>\n",
       "    </tr>\n",
       "    <tr>\n",
       "      <th>4</th>\n",
       "      <td>The selection on the menu was great and so wer...</td>\n",
       "      <td>1</td>\n",
       "    </tr>\n",
       "  </tbody>\n",
       "</table>\n",
       "</div>"
      ],
      "text/plain": [
       "                                              Review  Sentiment\n",
       "0                           Wow... Loved this place.          1\n",
       "1                                 Crust is not good.          0\n",
       "2          Not tasty and the texture was just nasty.          0\n",
       "3  Stopped by during the late May bank holiday of...          1\n",
       "4  The selection on the menu was great and so wer...          1"
      ]
     },
     "execution_count": 26,
     "metadata": {},
     "output_type": "execute_result"
    }
   ],
   "source": [
    "data_yelp.head()\n",
    "# review and sentiment\n",
    "# 0-Negative, 1-Positive for positive review"
   ]
  },
  {
   "cell_type": "code",
   "execution_count": 27,
   "id": "5d44a083",
   "metadata": {},
   "outputs": [],
   "source": [
    "data_Amazon = pd.read_csv(\"amazon_cells_labelled.txt\", sep= \"\\t\", header = None) # laading the Amazon data"
   ]
  },
  {
   "cell_type": "code",
   "execution_count": 28,
   "id": "55e25767",
   "metadata": {},
   "outputs": [],
   "source": [
    "data_Amazon.columns = [\"Review\", \"Sentiment\"]"
   ]
  },
  {
   "cell_type": "code",
   "execution_count": 29,
   "id": "78c06d2d",
   "metadata": {},
   "outputs": [],
   "source": [
    "data_imdb = pd.read_csv(\"imdb_labelled.txt\", sep = \"\\t\", header= None) ## laading the imdb_labbeled data"
   ]
  },
  {
   "cell_type": "code",
   "execution_count": 30,
   "id": "49ebbb34",
   "metadata": {},
   "outputs": [],
   "source": [
    "data_imdb.columns = [\"Review\", \"Sentiment\"]  # renaming the columns "
   ]
  },
  {
   "cell_type": "code",
   "execution_count": 31,
   "id": "820f43c0",
   "metadata": {},
   "outputs": [
    {
     "name": "stderr",
     "output_type": "stream",
     "text": [
      "C:\\Users\\rotimi.kolawole.ZEDCREST\\AppData\\Local\\Temp\\ipykernel_15928\\2907719763.py:1: FutureWarning: The frame.append method is deprecated and will be removed from pandas in a future version. Use pandas.concat instead.\n",
      "  data = data_imdb.append([data_Amazon , data_yelp], ignore_index= True) # Append all the data in a single dataframe\n"
     ]
    }
   ],
   "source": [
    "data = data_imdb.append([data_Amazon , data_yelp], ignore_index= True) # Append all the data in a single dataframe"
   ]
  },
  {
   "cell_type": "markdown",
   "id": "421ea4eb",
   "metadata": {},
   "source": [
    "### Data Exploration"
   ]
  },
  {
   "cell_type": "code",
   "execution_count": 32,
   "id": "5be6f970",
   "metadata": {},
   "outputs": [
    {
     "data": {
      "image/png": "[encoded data removed]",
      "text/plain": [
       "<Figure size 640x480 with 1 Axes>"
      ]
     },
     "metadata": {},
     "output_type": "display_data"
    }
   ],
   "source": [
    "data[\"Sentiment\"].value_counts().plot(kind = 'bar')\n",
    "plt.title(\"The  No of  reviews for each sentiment\")\n",
    "plt.xticks(rotation = 360);"
   ]
  },
  {
   "cell_type": "markdown",
   "id": "e2f5c826",
   "metadata": {},
   "source": [
    "The data looks balanced for a classification project ( ie approximately same Number of samples for both sentiments)"
   ]
  },
  {
   "cell_type": "code",
   "execution_count": 33,
   "id": "9654ca9a",
   "metadata": {},
   "outputs": [],
   "source": [
    "# 1346 positive reviews\n",
    "# 1362 Negative reviews"
   ]
  },
  {
   "cell_type": "code",
   "execution_count": 34,
   "id": "f64a911f",
   "metadata": {},
   "outputs": [
    {
     "data": {
      "text/plain": [
       "(2748, 2)"
      ]
     },
     "execution_count": 34,
     "metadata": {},
     "output_type": "execute_result"
    }
   ],
   "source": [
    "data.shape #"
   ]
  },
  {
   "cell_type": "code",
   "execution_count": 35,
   "id": "69fdef37",
   "metadata": {},
   "outputs": [
    {
     "data": {
      "text/html": [
       "<div>\n",
       "<style scoped>\n",
       "    .dataframe tbody tr th:only-of-type {\n",
       "        vertical-align: middle;\n",
       "    }\n",
       "\n",
       "    .dataframe tbody tr th {\n",
       "        vertical-align: top;\n",
       "    }\n",
       "\n",
       "    .dataframe thead th {\n",
       "        text-align: right;\n",
       "    }\n",
       "</style>\n",
       "<table border=\"1\" class=\"dataframe\">\n",
       "  <thead>\n",
       "    <tr style=\"text-align: right;\">\n",
       "      <th></th>\n",
       "      <th>Review</th>\n",
       "      <th>Sentiment</th>\n",
       "    </tr>\n",
       "  </thead>\n",
       "  <tbody>\n",
       "    <tr>\n",
       "      <th>0</th>\n",
       "      <td>A very, very, very slow-moving, aimless movie ...</td>\n",
       "      <td>0</td>\n",
       "    </tr>\n",
       "    <tr>\n",
       "      <th>1</th>\n",
       "      <td>Not sure who was more lost - the flat characte...</td>\n",
       "      <td>0</td>\n",
       "    </tr>\n",
       "    <tr>\n",
       "      <th>2</th>\n",
       "      <td>Attempting artiness with black &amp; white and cle...</td>\n",
       "      <td>0</td>\n",
       "    </tr>\n",
       "    <tr>\n",
       "      <th>3</th>\n",
       "      <td>Very little music or anything to speak of.</td>\n",
       "      <td>0</td>\n",
       "    </tr>\n",
       "    <tr>\n",
       "      <th>4</th>\n",
       "      <td>The best scene in the movie was when Gerardo i...</td>\n",
       "      <td>1</td>\n",
       "    </tr>\n",
       "  </tbody>\n",
       "</table>\n",
       "</div>"
      ],
      "text/plain": [
       "                                              Review  Sentiment\n",
       "0  A very, very, very slow-moving, aimless movie ...          0\n",
       "1  Not sure who was more lost - the flat characte...          0\n",
       "2  Attempting artiness with black & white and cle...          0\n",
       "3       Very little music or anything to speak of.            0\n",
       "4  The best scene in the movie was when Gerardo i...          1"
      ]
     },
     "execution_count": 35,
     "metadata": {},
     "output_type": "execute_result"
    }
   ],
   "source": [
    "data.head()"
   ]
  },
  {
   "cell_type": "code",
   "execution_count": 36,
   "id": "5ec8f415",
   "metadata": {},
   "outputs": [],
   "source": [
    "x = data[\"Review\"]\n",
    "y = data[\"Sentiment\"]"
   ]
  },
  {
   "cell_type": "markdown",
   "id": "d6e8dc69",
   "metadata": {},
   "source": [
    "### Data Preprocessing"
   ]
  },
  {
   "cell_type": "code",
   "execution_count": 37,
   "id": "a1351e90",
   "metadata": {},
   "outputs": [],
   "source": [
    "import string\n",
    "from spacy.lang.en.stop_words import STOP_WORDS\n",
    "import spacy"
   ]
  },
  {
   "cell_type": "code",
   "execution_count": 38,
   "id": "39839fef",
   "metadata": {},
   "outputs": [],
   "source": [
    "nlp = spacy.load(\"en_core_web_sm\")"
   ]
  },
  {
   "cell_type": "code",
   "execution_count": 39,
   "id": "2f91f752",
   "metadata": {},
   "outputs": [],
   "source": [
    "stop_words = list(nlp.Defaults.stop_words)"
   ]
  },
  {
   "cell_type": "code",
   "execution_count": 40,
   "id": "212e0b67",
   "metadata": {},
   "outputs": [],
   "source": [
    "punct = string.punctuation"
   ]
  },
  {
   "cell_type": "code",
   "execution_count": 41,
   "id": "635542f0",
   "metadata": {},
   "outputs": [],
   "source": [
    "nlp = spacy.load(\"en_core_web_sm\")"
   ]
  },
  {
   "cell_type": "code",
   "execution_count": 72,
   "id": "8d1c599e",
   "metadata": {},
   "outputs": [],
   "source": [
    "def cleaning_text_data(sentence):\n",
    "    \n",
    "    doc = nlp(sentence)\n",
    "    \n",
    "    toks = []\n",
    "    \n",
    "    for tok in doc:\n",
    "        if tok.lemma_ != \"-PRON-\": # prn doesnt need to be lemmatized as its already at its simplest form and doesnt \n",
    "            temp = tok.lemma_.lower().strip()\n",
    "        else:\n",
    "            temp  = tok.lower_\n",
    "        toks.append(temp)\n",
    "        \n",
    "        \n",
    "    cleaned_data = [val for val in toks if val not in punct and val not in stop_words]\n",
    "    \n",
    "    return cleaned_data\n",
    "\n",
    "# if root form of that word is not pronoun then it is going to convert that into lower form\n",
    "# and if that word is a proper noun, then we are directly taking lower form, because there is no lemma for proper noun\n",
    "    "
   ]
  },
  {
   "cell_type": "code",
   "execution_count": 73,
   "id": "28d995b1",
   "metadata": {},
   "outputs": [
    {
     "data": {
      "text/plain": [
       "['hello', 'beautiful', 'day', 'outside']"
      ]
     },
     "execution_count": 73,
     "metadata": {},
     "output_type": "execute_result"
    }
   ],
   "source": [
    "cleaning_text_data(\"Hello all, It's a beautiful day outside there!\")"
   ]
  },
  {
   "cell_type": "markdown",
   "id": "bde55608",
   "metadata": {},
   "source": [
    "### Splitting the dataset"
   ]
  },
  {
   "cell_type": "code",
   "execution_count": 84,
   "id": "54f89eec",
   "metadata": {},
   "outputs": [],
   "source": [
    "from sklearn.model_selection import train_test_split"
   ]
  },
  {
   "cell_type": "code",
   "execution_count": 85,
   "id": "1ca1a4fe",
   "metadata": {},
   "outputs": [],
   "source": [
    "train_data , test_data, train_label , test_label = train_test_split(x , y , test_size= .3,shuffle = True)"
   ]
  },
  {
   "cell_type": "code",
   "execution_count": 86,
   "id": "db0d2964",
   "metadata": {},
   "outputs": [
    {
     "data": {
      "text/plain": [
       "(1923,)"
      ]
     },
     "execution_count": 86,
     "metadata": {},
     "output_type": "execute_result"
    }
   ],
   "source": [
    "train_data.shape  # 1923 samples in training data"
   ]
  },
  {
   "cell_type": "code",
   "execution_count": 87,
   "id": "f98cfdd3",
   "metadata": {},
   "outputs": [
    {
     "data": {
      "text/plain": [
       "(825,)"
      ]
     },
     "execution_count": 87,
     "metadata": {},
     "output_type": "execute_result"
    }
   ],
   "source": [
    "test_data.shape  # 825 samples in training data"
   ]
  },
  {
   "cell_type": "code",
   "execution_count": 88,
   "id": "81aa88fc",
   "metadata": {},
   "outputs": [],
   "source": [
    "from sklearn.feature_extraction.text import TfidfVectorizer\n",
    "from sklearn.svm import LinearSVC\n",
    "from sklearn.pipeline import Pipeline\n",
    "from sklearn.metrics import confusion_matrix , classification_report , accuracy_score"
   ]
  },
  {
   "cell_type": "markdown",
   "id": "e43d1b73",
   "metadata": {},
   "source": [
    "### Vectorization Feature engineering  (TF-IDF)"
   ]
  },
  {
   "cell_type": "markdown",
   "id": "1b724dbe",
   "metadata": {},
   "source": [
    "Here,  feature engineering was performed using TF-IDF ( technique used to quantify the importance of text data)"
   ]
  },
  {
   "cell_type": "code",
   "execution_count": 89,
   "id": "91c1d66d",
   "metadata": {},
   "outputs": [],
   "source": [
    "\n",
    "Tfid = TfidfVectorizer(tokenizer= cleaning_text_data) # instatiating and passing the required cleaned data to the vectorizer\n",
    "linear_svc = LinearSVC()"
   ]
  },
  {
   "cell_type": "code",
   "execution_count": 90,
   "id": "f6945d08",
   "metadata": {},
   "outputs": [],
   "source": [
    "clf = Pipeline([(\"Vectorizer\", Tfid), (\"classifier\", linear_svc)])"
   ]
  },
  {
   "cell_type": "markdown",
   "id": "7ab952b9",
   "metadata": {},
   "source": [
    "### Traing the model\n"
   ]
  },
  {
   "cell_type": "code",
   "execution_count": 91,
   "id": "971f382c",
   "metadata": {},
   "outputs": [
    {
     "name": "stderr",
     "output_type": "stream",
     "text": [
      "C:\\Users\\rotimi.kolawole.ZEDCREST\\AppData\\Local\\anaconda3\\lib\\site-packages\\sklearn\\feature_extraction\\text.py:528: UserWarning: The parameter 'token_pattern' will not be used since 'tokenizer' is not None'\n",
      "  warnings.warn(\n"
     ]
    },
    {
     "data": {
      "text/html": [
       "<style>#sk-container-id-4 {color: black;background-color: white;}#sk-container-id-4 pre{padding: 0;}#sk-container-id-4 div.sk-toggleable {background-color: white;}#sk-container-id-4 label.sk-toggleable__label {cursor: pointer;display: block;width: 100%;margin-bottom: 0;padding: 0.3em;box-sizing: border-box;text-align: center;}#sk-container-id-4 label.sk-toggleable__label-arrow:before {content: \"▸\";float: left;margin-right: 0.25em;color: #696969;}#sk-container-id-4 label.sk-toggleable__label-arrow:hover:before {color: black;}#sk-container-id-4 div.sk-estimator:hover label.sk-toggleable__label-arrow:before {color: black;}#sk-container-id-4 div.sk-toggleable__content {max-height: 0;max-width: 0;overflow: hidden;text-align: left;background-color: #f0f8ff;}#sk-container-id-4 div.sk-toggleable__content pre {margin: 0.2em;color: black;border-radius: 0.25em;background-color: #f0f8ff;}#sk-container-id-4 input.sk-toggleable__control:checked~div.sk-toggleable__content {max-height: 200px;max-width: 100%;overflow: auto;}#sk-container-id-4 input.sk-toggleable__control:checked~label.sk-toggleable__label-arrow:before {content: \"▾\";}#sk-container-id-4 div.sk-estimator input.sk-toggleable__control:checked~label.sk-toggleable__label {background-color: #d4ebff;}#sk-container-id-4 div.sk-label input.sk-toggleable__control:checked~label.sk-toggleable__label {background-color: #d4ebff;}#sk-container-id-4 input.sk-hidden--visually {border: 0;clip: rect(1px 1px 1px 1px);clip: rect(1px, 1px, 1px, 1px);height: 1px;margin: -1px;overflow: hidden;padding: 0;position: absolute;width: 1px;}#sk-container-id-4 div.sk-estimator {font-family: monospace;background-color: #f0f8ff;border: 1px dotted black;border-radius: 0.25em;box-sizing: border-box;margin-bottom: 0.5em;}#sk-container-id-4 div.sk-estimator:hover {background-color: #d4ebff;}#sk-container-id-4 div.sk-parallel-item::after {content: \"\";width: 100%;border-bottom: 1px solid gray;flex-grow: 1;}#sk-container-id-4 div.sk-label:hover label.sk-toggleable__label {background-color: #d4ebff;}#sk-container-id-4 div.sk-serial::before {content: \"\";position: absolute;border-left: 1px solid gray;box-sizing: border-box;top: 0;bottom: 0;left: 50%;z-index: 0;}#sk-container-id-4 div.sk-serial {display: flex;flex-direction: column;align-items: center;background-color: white;padding-right: 0.2em;padding-left: 0.2em;position: relative;}#sk-container-id-4 div.sk-item {position: relative;z-index: 1;}#sk-container-id-4 div.sk-parallel {display: flex;align-items: stretch;justify-content: center;background-color: white;position: relative;}#sk-container-id-4 div.sk-item::before, #sk-container-id-4 div.sk-parallel-item::before {content: \"\";position: absolute;border-left: 1px solid gray;box-sizing: border-box;top: 0;bottom: 0;left: 50%;z-index: -1;}#sk-container-id-4 div.sk-parallel-item {display: flex;flex-direction: column;z-index: 1;position: relative;background-color: white;}#sk-container-id-4 div.sk-parallel-item:first-child::after {align-self: flex-end;width: 50%;}#sk-container-id-4 div.sk-parallel-item:last-child::after {align-self: flex-start;width: 50%;}#sk-container-id-4 div.sk-parallel-item:only-child::after {width: 0;}#sk-container-id-4 div.sk-dashed-wrapped {border: 1px dashed gray;margin: 0 0.4em 0.5em 0.4em;box-sizing: border-box;padding-bottom: 0.4em;background-color: white;}#sk-container-id-4 div.sk-label label {font-family: monospace;font-weight: bold;display: inline-block;line-height: 1.2em;}#sk-container-id-4 div.sk-label-container {text-align: center;}#sk-container-id-4 div.sk-container {/* jupyter's `normalize.less` sets `[hidden] { display: none; }` but bootstrap.min.css set `[hidden] { display: none !important; }` so we also need the `!important` here to be able to override the default hidden behavior on the sphinx rendered scikit-learn.org. See: https://github.com/scikit-learn/scikit-learn/issues/21755 */display: inline-block !important;position: relative;}#sk-container-id-4 div.sk-text-repr-fallback {display: none;}</style><div id=\"sk-container-id-4\" class=\"sk-top-container\"><div class=\"sk-text-repr-fallback\"><pre>Pipeline(steps=[(&#x27;Vectorizer&#x27;,\n",
       "                 TfidfVectorizer(tokenizer=&lt;function cleaning_text_data at 0x000001373910FE20&gt;)),\n",
       "                (&#x27;classifier&#x27;, LinearSVC())])</pre><b>In a Jupyter environment, please rerun this cell to show the HTML representation or trust the notebook. <br />On GitHub, the HTML representation is unable to render, please try loading this page with nbviewer.org.</b></div><div class=\"sk-container\" hidden><div class=\"sk-item sk-dashed-wrapped\"><div class=\"sk-label-container\"><div class=\"sk-label sk-toggleable\"><input class=\"sk-toggleable__control sk-hidden--visually\" id=\"sk-estimator-id-10\" type=\"checkbox\" ><label for=\"sk-estimator-id-10\" class=\"sk-toggleable__label sk-toggleable__label-arrow\">Pipeline</label><div class=\"sk-toggleable__content\"><pre>Pipeline(steps=[(&#x27;Vectorizer&#x27;,\n",
       "                 TfidfVectorizer(tokenizer=&lt;function cleaning_text_data at 0x000001373910FE20&gt;)),\n",
       "                (&#x27;classifier&#x27;, LinearSVC())])</pre></div></div></div><div class=\"sk-serial\"><div class=\"sk-item\"><div class=\"sk-estimator sk-toggleable\"><input class=\"sk-toggleable__control sk-hidden--visually\" id=\"sk-estimator-id-11\" type=\"checkbox\" ><label for=\"sk-estimator-id-11\" class=\"sk-toggleable__label sk-toggleable__label-arrow\">TfidfVectorizer</label><div class=\"sk-toggleable__content\"><pre>TfidfVectorizer(tokenizer=&lt;function cleaning_text_data at 0x000001373910FE20&gt;)</pre></div></div></div><div class=\"sk-item\"><div class=\"sk-estimator sk-toggleable\"><input class=\"sk-toggleable__control sk-hidden--visually\" id=\"sk-estimator-id-12\" type=\"checkbox\" ><label for=\"sk-estimator-id-12\" class=\"sk-toggleable__label sk-toggleable__label-arrow\">LinearSVC</label><div class=\"sk-toggleable__content\"><pre>LinearSVC()</pre></div></div></div></div></div></div></div>"
      ],
      "text/plain": [
       "Pipeline(steps=[('Vectorizer',\n",
       "                 TfidfVectorizer(tokenizer=<function cleaning_text_data at 0x000001373910FE20>)),\n",
       "                ('classifier', LinearSVC())])"
      ]
     },
     "execution_count": 91,
     "metadata": {},
     "output_type": "execute_result"
    }
   ],
   "source": [
    "clf.fit(train_data , train_label)"
   ]
  },
  {
   "cell_type": "markdown",
   "id": "19ab7b3f",
   "metadata": {},
   "source": [
    "### Evaluating the model"
   ]
  },
  {
   "cell_type": "code",
   "execution_count": 99,
   "id": "95ace582",
   "metadata": {},
   "outputs": [],
   "source": [
    "Y_pred = clf.predict(test_data)"
   ]
  },
  {
   "cell_type": "code",
   "execution_count": 101,
   "id": "c80ef894",
   "metadata": {},
   "outputs": [
    {
     "data": {
      "text/plain": [
       "0.7842424242424243"
      ]
     },
     "execution_count": 101,
     "metadata": {},
     "output_type": "execute_result"
    }
   ],
   "source": [
    "accuracy_score(Y_pred , test_label) # 78% accuracy"
   ]
  },
  {
   "cell_type": "code",
   "execution_count": 97,
   "id": "8420cd0e",
   "metadata": {},
   "outputs": [
    {
     "data": {
      "text/plain": [
       "array([[313,  82],\n",
       "       [ 96, 334]], dtype=int64)"
      ]
     },
     "execution_count": 97,
     "metadata": {},
     "output_type": "execute_result"
    }
   ],
   "source": [
    "confusion_matrix(Y_pred , test_label)"
   ]
  },
  {
   "cell_type": "code",
   "execution_count": 98,
   "id": "6d3ed4d8",
   "metadata": {},
   "outputs": [
    {
     "name": "stdout",
     "output_type": "stream",
     "text": [
      "              precision    recall  f1-score   support\n",
      "\n",
      "           0       0.77      0.79      0.78       395\n",
      "           1       0.80      0.78      0.79       430\n",
      "\n",
      "    accuracy                           0.78       825\n",
      "   macro avg       0.78      0.78      0.78       825\n",
      "weighted avg       0.78      0.78      0.78       825\n",
      "\n"
     ]
    }
   ],
   "source": [
    "print(classification_report(Y_pred , test_label))"
   ]
  },
  {
   "cell_type": "markdown",
   "id": "d6da0e5f",
   "metadata": {},
   "source": [
    "#### predicting some few text"
   ]
  },
  {
   "cell_type": "code",
   "execution_count": 30,
   "id": "484153e2",
   "metadata": {},
   "outputs": [
    {
     "data": {
      "text/plain": [
       "array([1], dtype=int64)"
      ]
     },
     "execution_count": 30,
     "metadata": {},
     "output_type": "execute_result"
    }
   ],
   "source": [
    "clf.predict([\" I love Amazon new products and service !\"]) # returns a positive sentiment -- 1"
   ]
  },
  {
   "cell_type": "code",
   "execution_count": 31,
   "id": "97843c62",
   "metadata": {},
   "outputs": [
    {
     "data": {
      "text/plain": [
       "array([0], dtype=int64)"
      ]
     },
     "execution_count": 31,
     "metadata": {},
     "output_type": "execute_result"
    }
   ],
   "source": [
    "clf.predict([\"I didnt enjoy them that much!\"]) # returns a negative sentiment -- 0"
   ]
  },
  {
   "cell_type": "code",
   "execution_count": 69,
   "id": "23d249d2",
   "metadata": {},
   "outputs": [
    {
     "data": {
      "text/plain": [
       "array([1], dtype=int64)"
      ]
     },
     "execution_count": 69,
     "metadata": {},
     "output_type": "execute_result"
    }
   ],
   "source": [
    "clf.predict([\"Wow, I am learning Natural Language Processing in fun fashion!\"])\n",
    "# output is 1, that means review is positive"
   ]
  },
  {
   "cell_type": "code",
   "execution_count": null,
   "id": "d0efdc04",
   "metadata": {},
   "outputs": [],
   "source": []
  },
  {
   "cell_type": "code",
   "execution_count": null,
   "id": "faee9900",
   "metadata": {},
   "outputs": [],
   "source": []
  },
  {
   "cell_type": "code",
   "execution_count": null,
   "id": "701db99a",
   "metadata": {},
   "outputs": [],
   "source": []
  },
  {
   "cell_type": "raw",
   "id": "d07a22bd",
   "metadata": {},
   "source": []
  }
 ],
 "metadata": {
  "kernelspec": {
   "display_name": "Python 3 (ipykernel)",
   "language": "python",
   "name": "python3"
  },
  "language_info": {
   "codemirror_mode": {
    "name": "ipython",
    "version": 3
   },
   "file_extension": ".py",
   "mimetype": "text/x-python",
   "name": "python",
   "nbconvert_exporter": "python",
   "pygments_lexer": "ipython3",
   "version": "3.10.9"
  }
 },
 "nbformat": 4,
 "nbformat_minor": 5
}
